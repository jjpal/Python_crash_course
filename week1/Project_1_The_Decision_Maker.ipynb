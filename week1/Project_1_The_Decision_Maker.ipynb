{
  "cells": [
    {
      "cell_type": "markdown",
      "metadata": {
        "id": "hlAX8ZqrzJ4C"
      },
      "source": [
        "# Project 1: The Decision Maker\n",
        "\n",
        "⚠️   **Duplicate this project before you start working on it, using `File > Save a copy in drive`.**\n",
        "\n",
        "Computer programs make decisions that affect human lives all the time. Banks use algorithms to decide who is eligible for a loan, universities use algorithms to decide which students get on-campus housing, Gmail uses algorithms to decide whether to send an email to the spam folder. Since the fate of individuals' lives can depend on decisions made by algorithms, it's very important to think about how to make _good_ decisions.\n",
        "\n",
        "In this project, you'll build a program that can make a decision about how to prioritize an individual for an opportunity. You'll practice variables, functions, conditionals, and user input, all combined in one program. You'll also figure out how to test this program, both automatically and in the real world.\n"
      ]
    },
    {
      "cell_type": "markdown",
      "metadata": {
        "id": "SSDiE1y1zUl3"
      },
      "source": [
        "## Step 1: Pick a topic\n",
        "\n",
        "You all are coming from all around the world, and the decisions that are important in your community may be different from the decisions important to other communities. So, we will give suggestions for decision-making algorithms to program, and you can pick from this list or concoct your own. Each of these algorithms will come up with a score for an individual based on a series of questions, and individuals with higher scores would be prioritized for the opportunity.\n",
        "\n",
        "* **Student housing**: An algorithm that universities can use to figure out which of their students get to live in limited university housing spots. The score could consider factors like year of study, age, whether they're a TA, if they're on academic probation, their major, their hometown, etc.\n",
        "* **Vaccine shots**: Hospitals could use this to decide which of their patients get early access to limited vaccine doses. The score might consider factors like existing conditions, age, previous vaccinations, type of employment, socioeconomic status, etc.\n",
        "* **Small business loans**: An algorithm that a bank might use to decide whether to give a loan to a small business owner. The score might depend on factors like number of businesses they've run before, profit estimates, loss estimates, age, number of jobs held, etc.\n",
        "\n",
        "Those are a few ideas, but as I said, feel free to come up with your own idea. It's best if it's something you yourself have personal experience with, or something that your friends/family members/colleagues have experienced, so that you can discuss with them what would make sense. Remember, it's risky to outsource these sorts of decisions to computers, so we want you to put some thought into your algorithm.\n",
        "\n",
        "### ✏︎ For you to do\n",
        "\n",
        "Describe the topic below (or just write the name of one of the suggested topics)."
      ]
    },
    {
      "cell_type": "markdown",
      "metadata": {
        "id": "dOQTYvJO1BGA"
      },
      "source": [
        "✏️ My topic will be: ...\n",
        "\n",
        " >>pet adoption\n"
      ]
    },
    {
      "cell_type": "markdown",
      "metadata": {
        "id": "G4SzvXvUzb4W"
      },
      "source": [
        "## Step 2: Design your algorithm\n",
        "\n",
        "Now it's time to actually come up with the algorithm. Limit yourself to the most important factors, so that you have enough time to actually turn this algorithm into a working program.\n",
        "\n",
        "Your algorithm will:\n",
        "* Ask someone a series of questions, such as \"How old are you?\" or \"Have you ever started a business before?\"\n",
        "* Assign points based on their answers. For a question like age, your algorithm might assign scores proportional to the number of years, or perhaps assign certain scores based on buckets (e.g. 5 points for 0-5, 3 points for 5-15, etc.) For a question like \"Are you immunocompromised?\", it may simply assign 10 points for \"yes\" and 0 points otherwise.\n",
        "* Accumulate their total points across all answers into a single numeric score, with a higher score indicating that the person is a better candidate for the opportunity than users with lower scores.\n",
        "\n",
        "### Constraints\n",
        "\n",
        "Since a big goal of this project is to practice using conditionals, we have several requirements for your question design:\n",
        "\n",
        "* At least one of your questions should assign points into buckets. _(Implementation tip: that's a great time to use `if`/`elif`/`else`)._\n",
        "* One of your questions should be answered by a number that gets arithmetically manipulated to come up with the corresponding points.\n",
        "\n",
        "### ✏︎ For you to do\n",
        "\n",
        "Create a bulleted list of all the questions you'll ask, and how the answers will be mapped to points."
      ]
    },
    {
      "cell_type": "markdown",
      "metadata": {
        "id": "W_OiFIjV04VM"
      },
      "source": [
        "✏️ My algorithm will ask:\n",
        "\n",
        "* Will you be able to financially/emotionally/physically take care of the pet?\n",
        "* Will you be able to take care of them when healthy/sick - when sick take to vet ? \n",
        "* Do you have a house/apartment/safe place for them to stay? \n",
        "* Is there a yard or dog park close to where you are living?\n",
        "* On average how many hours do you spend at work/away from home?\n",
        "* Do you travel often? If travel often will the pet be taken care of when away?\n",
        "* Do you have pets?\n",
        "* If you have other pets do you have a plan for adjusting your new pet to other pets?\n",
        "* Do you have feeding plans for your pet?\n",
        "* Is the new pet going to be around young children? If so, do you have a plan for adjusting your pet to your young children?"
      ]
    },
    {
      "cell_type": "markdown",
      "metadata": {
        "id": "M-8MH5hG0CMx"
      },
      "source": [
        "## Plan your tests\n",
        "\n",
        "A great practice in programming is to come up with test cases _before_ writing a program. That can help you think more carefully about whether the planned program will actually do what you are hoping, and will make it easy to verify that the code you write actually works.\n",
        "\n",
        "Either interview three people or come up with three fictional people who might encounter this algorithm in their lives. Figure out how they would answer the questions, run the answers through your proposed algorithm, and see what scores result. Do their relative scores make sense? Are they fair? If they do, great! If not, keep tweaking your algorithm or add/remove questions as needed to improve it.\n",
        "\n",
        "### ✏︎ For you to do\n",
        "\n",
        "Make a list of the test cases, with the expected score for each case and a sublist of question/answer scores. You'll translate these test cases into code later.\n"
      ]
    },
    {
      "cell_type": "markdown",
      "metadata": {
        "id": "7bLvLJlO0J_U"
      },
      "source": [
        "✏️ Test cases:\n",
        "\n",
        "* Case 1: expected score of [80  to 100]\n",
        "* [Will you be able to financially/emotionally/physically take care of the pet?]: [y]\n",
        "* [Will you be able to take care of them when healthy/sick/take to vet]: [y]\n",
        "* [Do you have a house/apartment/safe place for them to stay? ]: [y]\n",
        "* [Is there a yard or dog park close to where you are living?]: [y]\n",
        "* [On average how many hours do you spend at work/away from home?]: [40 to 50]\n",
        "* [Do you travel often?]: [n]\n",
        "* [Do you have pets?]: [n]\n",
        "* [No pets? If you have other pets do you have a plan for adjusting your new pet to other pets?]: [y]\n",
        "* [Do you have feeding plans for your pet?]: [y]\n",
        "* [Is the new pet going to be around any young children? If so, do you have training plans to adjust your new pet to children]: [na]\n",
        "\n"
      ]
    },
    {
      "cell_type": "markdown",
      "metadata": {
        "id": "J93zZ5Jj1Nnk"
      },
      "source": [
        "## Transform into code\n",
        "\n",
        "It's time to turn those plans into a program. You'll write all the code inside this notebook.\n",
        "\n",
        "The first part of the program is `calculate_score`, the function that will do the bulk of the computational work (with a whole lot of conditionals and arithmetic). The skeleton code below just has a few arguments, no conditionals or computations, and a not-so-useful doctest. You'll end up modifying this function quite a bit."
      ]
    },
    {
      "cell_type": "code",
      "execution_count": 1,
      "metadata": {
        "colab": {
          "base_uri": "https://localhost:8080/"
        },
        "id": "r98tCGIqkGtG",
        "outputId": "e32f2775-4bc2-4199-9706-014c2b582735"
      },
      "outputs": [
        {
          "name": "stderr",
          "output_type": "stream",
          "text": [
            "\n",
            "PYDEV DEBUGGER WARNING:\n",
            "sys.settrace() should not be used when the debugger is being used.\n",
            "This may cause the debugger to stop working correctly.\n",
            "If this is needed, please check: \n",
            "http://pydev.blogspot.com/2007/06/why-cant-pydev-debugger-work-with.html\n",
            "to see how to restore the debug tracing back correctly.\n",
            "Call Location:\n",
            "  File \"/usr/lib/python3.7/doctest.py\", line 1487, in run\n",
            "    sys.settrace(save_trace)\n",
            "\n"
          ]
        },
        {
          "name": "stdout",
          "output_type": "stream",
          "text": [
            "Finding tests in calculate_score\n",
            "Trying:\n",
            "    calculate_score('y', 'y', 'y', 'y', 40, 'n', 'n', 'y', 'y','na')\n",
            "Expecting:\n",
            "    100\n",
            "ok\n",
            "Trying:\n",
            "    calculate_score('n', 'n', 'n', 'n', 60, 'y', 'y', 'n', 'n','n')\n",
            "Expecting:\n",
            "    5\n",
            "ok\n",
            "Trying:\n",
            "    calculate_score('y', 'y', 'y', 'n', 23, 'n', 'n', 'na', 'y','y')\n",
            "Expecting:\n",
            "    82\n",
            "ok\n"
          ]
        }
      ],
      "source": [
        "def calculate_score(financial, health, living, yard, work, travel, pets1, pets2, feeding, children):\n",
        "  \"\"\" Calculates score based on answers given to questions.\n",
        "  >>> calculate_score('y', 'y', 'y', 'y', 40, 'n', 'n', 'y', 'y','na')\n",
        "  100\n",
        "  >>> calculate_score('n', 'n', 'n', 'n', 60, 'y', 'y', 'n', 'n','n')\n",
        "  5\n",
        "  >>> calculate_score('y', 'y', 'y', 'n', 23, 'n', 'n', 'na', 'y','y')\n",
        "  82\n",
        "  \n",
        "  \"\"\"\n",
        "  score = 0\n",
        "  # YOUR CODE HERE      #financial, health, living, yard, int(work), travel, pets1, pets2, feeding, children\n",
        "  if financial.lower() == \"y\" or financial.lower() == 'yes':\n",
        "     score += 10\n",
        "\n",
        "  if health.lower() == \"y\" or health.lower() == \"yes\":\n",
        "      score += 10\n",
        "\n",
        "  if living.lower() == \"y\" or health.lower() == \"yes\":\n",
        "      score += 10\n",
        "\n",
        "  if yard.lower() == \"y\"  or yard.lower == \"yes\":\n",
        "      score += 10\n",
        "\n",
        "  if work < 30: \n",
        "      score += 2\n",
        "  elif work >= 30 and work < 40:\n",
        "      score += 5\n",
        "  elif work >= 40 and work < 55:\n",
        "      score += 10\n",
        "  else:\n",
        "      score += 0    \n",
        "\n",
        "  if travel.lower() == \"n\" or travel.lower() == \"no\":\n",
        "      score += 10\n",
        "\n",
        "  if pets1.lower() == \"n\" or pets1.lower == \"no\":\n",
        "      score += 20     \n",
        "  elif (pets1.lower() == \"y\" or pets1.lower == \"yes\") and (pets2.lower() == \"y\" or pets2.lower == \"yes\" or pets2.lower == \"na\"):\n",
        "      score += 20\n",
        "  \n",
        "  if feeding.lower() == \"y\"  or feeding.lower() == \"yes\":\n",
        "      score += 10\n",
        "  else:\n",
        "      score += 5    \n",
        "  \n",
        "  if children.lower() == \"na\":\n",
        "      score += 10\n",
        "  elif children.lower() ==\"y\" or children.lower() == \"yes\":\n",
        "      score += 10\n",
        "  \n",
        "  return score\n",
        "\n",
        "# This code runs the doctests to see if they pass/fail\n",
        "import doctest\n",
        "doctest.run_docstring_examples(calculate_score, globals(),\n",
        "    verbose=True, name=\"calculate_score\")"
      ]
    },
    {
      "cell_type": "markdown",
      "metadata": {
        "id": "XnS8T_9u1ypC"
      },
      "source": [
        "Next, the code below uses `input()` to ask each question, remembering the answers in variables. It sends the answers to `calculate_score()` and prints out the returned score. You'll be modifying this code to ask your own questions, most likely asking more than just two questions.\n",
        "\n",
        "The code below won't work without `calculate_score` being defined, so **make sure you run the code block above before you run this code, and re-run the first code block if you ever change it.**\n"
      ]
    },
    {
      "cell_type": "code",
      "execution_count": 4,
      "metadata": {
        "colab": {
          "base_uri": "https://localhost:8080/"
        },
        "id": "vjDZWCg7wikg",
        "outputId": "d19f16d7-e242-4f0b-b6db-f55d26898287"
      },
      "outputs": [
        {
          "name": "stdout",
          "output_type": "stream",
          "text": [
            "Will you be able to financially/emotionally/physically take care of the pet [y/n]? y\n",
            "Will you be able to take care of them when healthy/sick/take to vet [y/n]? y\n",
            "Do you have a house/apartment/safe place for them to stay [y/n]? y\n",
            "Is there a yard or dog park close to where you are living [y/n]? y\n",
            "On average how many hours do you spend at work/ away from home [y/n]? 45\n",
            "Do you travel often [y/n]? n\n",
            "Do you have pets? [y/n]? n\n",
            "If you have other pets, do you have a plan for adjusting your new pet to other pets [na/y/n]? na\n",
            "Do you have feeding plans for your pet [y/n]? y\n",
            "Is the new pet going to be around any young children? If so, do you have training plans to adjust your new pet to children [na/y/n]? na\n",
            "\n",
            "Your score is: 100 . You have passed the first stage to being a pet parent. Congratulations!\n"
          ]
        }
      ],
      "source": [
        "financial = input(\"Will you be able to financially/emotionally/physically take care of the pet [y/n]? \")\n",
        "health = input(\"Will you be able to take care of them when healthy/sick/take to vet [y/n]? \")\n",
        "living = input(\"Do you have a house/apartment/safe place for them to stay [y/n]? \")\n",
        "yard = input(\"Is there a yard or dog park close to where you are living [y/n]? \")\n",
        "work = input(\"On average how many hours do you spend at work/ away from home [y/n]? \")\n",
        "travel = input(\"Do you travel often [y/n]? \")\n",
        "pets1 = input(\"Do you have pets? [y/n]? \") \n",
        "pets2 = input(\"If you have other pets, do you have a plan for adjusting your new pet to other pets [na/y/n]? \")\n",
        "feeding = input(\"Do you have feeding plans for your pet [y/n]? \")\n",
        "children = input(\"Is the new pet going to be around any young children? If so, do you have training plans to adjust your new pet to children [na/y/n]? \")\n",
        "\n",
        "# Once you have all the answers, send them through the calculator function\n",
        "# Note that some answers may need to be converted to numbers\n",
        "score = calculate_score(financial, health, living, yard, int(work), travel, pets1, pets2, feeding, children)\n",
        "\n",
        "# Now report the score to the user and recommendation \n",
        "if score >= 80:\n",
        "    print(\"\\nYour score is:\", score,\". You have passed the first stage to being a pet parent. Congratulations!\")\n",
        "elif score >= 60 and score < 80:\n",
        "    print(\"\\nYour score is:\", score,\". You will need to make some preparations/adjustments for pet adoption - please try again.\")    \n",
        "else:\n",
        "    print(\"\\nYour score is:\", score,\". Your will not be able to adopt a pet at this time') \")"
      ]
    },
    {
      "cell_type": "markdown",
      "metadata": {
        "id": "KM_Y16Bq2gra"
      },
      "source": [
        "### ✏︎ For you to do\n",
        "\n",
        "Now you'll convert your planned questions into code. Here's one way to go about this part:\n",
        "\n",
        "* First write all the code to ask the questions with `input()` calls, and make sure the variables are all correctly stored. \n",
        "* Then implement the `calculate_score()` function, adding all the conditionals and calculations as needed.\n",
        "\n",
        "You could also tackle it in reverse, or even alternate between `input()` and `calculate_score()` - whatever works best for you.\n",
        "\n",
        "By the time you're done (or along the way), make sure you've ported all your test cases from before into the doctests for `calculate_scores` and that they all pass. It's a whole lot easier to run doctests than to continually type in answers to series of questions, so I recommend bringing in the tests early for faster development and debugging.\n",
        "\n",
        "📺 Want help getting started? [Watch this video](https://youtu.be/o6bBv2sHnb4)"
      ]
    },
    {
      "cell_type": "markdown",
      "metadata": {
        "id": "NQexMxQ9-iiP"
      },
      "source": [
        "## All done!\n",
        "\n",
        "Congratulations! 🎉 You've written a program that can make a complex decision. This may be the first of many!\n",
        "\n",
        "**Submit your project using the submission form on the CoRise platform.**\n",
        "\n"
      ]
    },
    {
      "cell_type": "markdown",
      "metadata": {
        "id": "FD990bUdfKhj"
      },
      "source": [
        "## Extensions\n",
        "\n",
        "Want to take this project further? Here are a few ideas:\n",
        "\n",
        "* **Follow-up questions**: Your program could ask a question only if the user answered the first question a particular way. This would probably involve `if` statements in the `input()` part of the program as well as nested `if` statements inside `calculate_score` itself. You could even use default arguments in your `calculate_score` function if that makes the code cleaner.\n",
        "* **Error checking**: What if you ask a user a yes/no question and they answer \"maybe\"? Or if you ask them for a numeric answer but they write a word or type a \"$\" in front? You can do some error checking after receiving each answer to make sure it is compatible with what `calculate_score` expects, and if not, you can try to convert it into an appropriate response or ask the user a follow-up question to clarify.\n",
        "* **Explore ethical implications**: Now is also a good time to reflect on the fairness of decision making algorithms in general. If your program made a decision about resource allocation, consider which people might receive the most harm/benefit from its scoring algorithm. Continue with some reading on ethical decision making algorithms:\n",
        "    * [What Happens When An Algorithm Cuts Your Health Care](https://www.theverge.com/2018/3/21/17144260/healthcare-medicaid-algorithm-arkansas-cerebral-palsy)  by Colin Lecher\n",
        "    * [We Created Poverty; Algorithms Won't Make That Go Away](https://www.theguardian.com/commentisfree/2018/may/13/we-created-poverty-algorithms-wont-make-that-go-away) by Virginia Eubanks\n",
        "    * If you have time to read a whole book, [Weapons of Math Destruction](https://www.penguinrandomhouse.com/books/241363/weapons-of-math-destruction-by-cathy-oneil/) by Cathy O'Neil is a fascinating deep dive.\n"
      ]
    },
    {
      "cell_type": "markdown",
      "metadata": {
        "id": "EwNTSviJ5SiQ"
      },
      "source": [
        "## Attribution\n",
        "\n",
        "This project was based on [\"Algorithms as Decision-Makers\"](https://ethicalcs.github.io/#decision-makers) from Evan Peck at Bucknell University. Thank you, Evan and team."
      ]
    }
  ],
  "metadata": {
    "colab": {
      "collapsed_sections": [
        "KM_Y16Bq2gra",
        "NQexMxQ9-iiP",
        "FD990bUdfKhj",
        "EwNTSviJ5SiQ"
      ],
      "name": "Copy of Project 1: The Decision Maker",
      "provenance": []
    },
    "kernelspec": {
      "display_name": "Python 3.8.5 64-bit",
      "language": "python",
      "name": "python3"
    },
    "language_info": {
      "name": "python",
      "version": "3.8.5"
    },
    "vscode": {
      "interpreter": {
        "hash": "570feb405e2e27c949193ac68f46852414290d515b0ba6e5d90d076ed2284471"
      }
    }
  },
  "nbformat": 4,
  "nbformat_minor": 0
}
