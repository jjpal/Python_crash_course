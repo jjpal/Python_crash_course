{
  "nbformat": 4,
  "nbformat_minor": 0,
  "metadata": {
    "colab": {
      "provenance": [],
      "collapsed_sections": []
    },
    "kernelspec": {
      "name": "python3",
      "display_name": "Python 3"
    },
    "language_info": {
      "name": "python"
    }
  },
  "cells": [
    {
      "cell_type": "markdown",
      "source": [
        "# Project 4: OOP Quiz\n",
        "\n",
        "⚠️   **Duplicate this project before you start working on it, using `File > Save a copy in drive`.**\n",
        "\n",
        "In this final project, you'll use object-oriented programming to design a quiz with questions of different types. "
      ],
      "metadata": {
        "id": "6OXVC3_tzrvE"
      }
    },
    {
      "cell_type": "markdown",
      "source": [
        "## Draft your quiz\n",
        "\n",
        "We want to see a different quiz from every student, since all of you come with expertise in different topics. Your quiz should be a mix of free-text answers and multiple choice answers (and even other types of answers that you come up with!).\n",
        "\n",
        "Here's an example quiz that I might come up with, since I'm obsessed with caterpillars:\n",
        "* Question 1: What plant do Swallowtail caterpillars eat?\n",
        "  * 1. Milkweed\n",
        "  * 2. Dill\n",
        "  * 3. Thistle\n",
        "  * Answer: 2 (Used to communicates with a database)\n",
        "* Question 1: What plant do Swallowtail caterpillars eat?\n",
        "  * 1. Milkweed\n",
        "  * 2. Dill\n",
        "  * 3. Thistle     \n",
        "### ✏︎ For you to do\n",
        "\n",
        "Come up with your own quiz. It should have at least 6 questions and be a mix of answer types (free text/multiple choice). Write it down below."
      ],
      "metadata": {
        "id": "fp8r01-p4DG6"
      }
    },
    {
      "cell_type": "markdown",
      "source": [
        "(YOUR QUIZ HERE)\n",
        "* Question 1: What does SQL stand for?\n",
        "  * Free text: _______________\n",
        "  * Answer: Structured Query Language\n",
        "* Question 2: What is SQL?\n",
        "  * 1. A front-end framework\n",
        "  * 2. A way to communicate with a database\n",
        "  * 3. A layered web security application\n",
        "  * Answer: 2 (Used to communicate with a database)\n",
        "* Question 3: What are the different clauses used in SQL?\n",
        "  * 1. select, from, where, order by, group by, having, join, limit\n",
        "  * 2. PL-SQL, T-SQL, pgSQL, CQL, ANSI-SQL\n",
        "  * 3. table, view, index, cursor, trigger, schema, query\n",
        "  * Answer: 1 (select, from, where, order by, group by, having, join, limit)\n",
        "* Question 4: What are the 4 major types of joins?\n",
        "  * 1. primary, foreign, unique, null\n",
        "  * 2. DDL, DML, DCL, DROP\n",
        "  * 3. inner, left, right, full\n",
        "  * Answer: 3 (inner, left, right, full)\n",
        "* Question 5: What is the execution order for SQL clauses?\n",
        "  * 1. select, from, where, order by, group by, limit, having,join\n",
        "  * 2. from | join, where, group by, having, select, order by, limit\n",
        "  * 3. select, from, join, group by, order by, having, limit, where\n",
        " * Answer: 2 (from | join, where, group by, having, select, order by, limit)    \n",
        "* Question 6: How many different types of indexes are there?\n",
        "  * 1. three\n",
        "  * 2. five\n",
        "  * 3. eight\n",
        "  * Answer: 1 (three)\n",
        "* Question 7: What are the different types of relationships in a database?\n",
        "  * 1. one-to-one, one-to-many, many-to-one, many-to-many\n",
        "  * 2. one-to-none, one-to-few, few-to-many, many-to-max\n",
        "  * 3. unique, clustered, non-clustered\n",
        "  * Answer: 1 one-to-one, one-to-many, many-to-one, many-to-many)  \n",
        "* Question 8: What does CTE stand for?\n",
        "  * Free text: ___________  \n",
        "  * Answer: common table expression\n",
        "* Question 9: Can CASE statements be used in SQL?\n",
        "  * 1. no\n",
        "  * 2. yes\n",
        "  * 3. maybe\n",
        "  * Answer: 2 (yes)  \n",
        "* Question 10: What are different types of aggregate functions?\n",
        "  * 1. COUNT, MIN, MAX, SUM, AVG\n",
        "  * 2. ROUND, FORMAT, STDEV, VAR, LEAD\n",
        "  * 3. RANK, NTILE, CUME_DIST, ROW NUMBER, LAG\n",
        "  * Answer: 1 (COUNT, MIN, MAX, SUM, AVG)  \n",
        "* Question 11: What are the postgreSQL and MySQL mascots?\n",
        "  * 1. cowduck and gopher\n",
        "  * 2. panda and penguin\n",
        "  * 3. elephant and dolphin\n",
        "  * Answer: 3 (elephant and dolphin)    "
      ],
      "metadata": {
        "id": "ON305Y4a5rK2"
      }
    },
    {
      "cell_type": "markdown",
      "source": [
        "## What objects and classes do we need?\n",
        "\n",
        "The most obvious object that we need is `Quiz`, so that we can potentially have multiple quizzes, each with their own title and questions.\n",
        "\n",
        "But let's break it down more than that:\n",
        "* A `Quiz` is made up of multiple questions. Each of those can be a `Question` object.\n",
        "* A `Question` object has the actual prompt (the question that ends in a question mark) as well as the answer(s). Let's make each `Answer` an object as well.\n",
        "* Since the goal is to support multiple answer types, we could use inheritance and more classes to distinguish between `FreeTextAnswer` objects and `MultipleChoiceAnswer` objects.\n",
        "\n",
        "So there are 5 classes to implement: `Quiz`, `Question`, `Answer`, `FreeTextAnswer`, and `MultipleChoiceAnswer`.\n",
        "\n",
        "You'll start with the smallest part of the system, the answers, and work your way up to the quiz, since that makes testing much easier."
      ],
      "metadata": {
        "id": "netRf4nM5v33"
      }
    },
    {
      "cell_type": "markdown",
      "source": [
        "## The `Answer` class\n",
        "\n",
        "We are providing this class for you. It is a super simple class right now, with only a single method `is_correct` that always returns false.\n",
        "\n",
        "The specific answer types will inherit from this class. You may find yourself wanting to move shared functionality from the answer types into this class, either when working through the core project or the extensions. But you also may just leave it like this."
      ],
      "metadata": {
        "id": "Ry7bOEOP7pKm"
      }
    },
    {
      "cell_type": "code",
      "source": [
        "class Answer:\n",
        "  def is_correct(self):\n",
        "    return False"
      ],
      "metadata": {
        "id": "WCX1C7x7vnpq"
      },
      "execution_count": 1,
      "outputs": []
    },
    {
      "cell_type": "markdown",
      "source": [
        "## The `FreeTextAnswer` class\n",
        "\n",
        "You'll use this class for the questions where you want users to write the answers themselves in a text box.\n",
        "\n",
        "The class initializer should accept two parameters, one for the correct answer and the other indicating whether the answer is case sensitive (i.e., if capitalization matters).\n",
        "\n",
        "Then `is_correct` needs to return either true or false based on whether the user's answer matches the correct answer (ignoring capitalization if that was requested).\n",
        "\n",
        "The `display` method should print out text that tells people what to put in the text box and whether capitalization matters.\n",
        "\n",
        "All of these methods are also demonstrated in the doctests, so read through the doctests first before implementing.\n",
        "\n",
        "### ✏︎ For you to do\n",
        "\n",
        "Implement the three methods per the description above and doctests below, and run the doctests to ensure they're all passing.\n",
        "\n",
        "📺 For help getting started, [watch this video](https://youtu.be/vXz8ZnWW6iM)\n"
      ],
      "metadata": {
        "id": "IadxxwVX8gE6"
      }
    },
    {
      "cell_type": "code",
      "execution_count": 2,
      "metadata": {
        "id": "tLeqkBPDouhy",
        "colab": {
          "base_uri": "https://localhost:8080/"
        },
        "outputId": "f99ec71e-daa3-4f75-e131-510918d25c6a"
      },
      "outputs": [
        {
          "output_type": "stream",
          "name": "stderr",
          "text": [
            "\n",
            "PYDEV DEBUGGER WARNING:\n",
            "sys.settrace() should not be used when the debugger is being used.\n",
            "This may cause the debugger to stop working correctly.\n",
            "If this is needed, please check: \n",
            "http://pydev.blogspot.com/2007/06/why-cant-pydev-debugger-work-with.html\n",
            "to see how to restore the debug tracing back correctly.\n",
            "Call Location:\n",
            "  File \"/usr/lib/python3.7/doctest.py\", line 1487, in run\n",
            "    sys.settrace(save_trace)\n",
            "\n"
          ]
        },
        {
          "output_type": "stream",
          "name": "stdout",
          "text": [
            "Finding tests in FreeTextAnswer\n",
            "Trying:\n",
            "    ans1 = FreeTextAnswer(\"Milkweed\", False)\n",
            "Expecting nothing\n",
            "ok\n",
            "Trying:\n",
            "    ans1.is_correct(\"milkweed\")\n",
            "Expecting:\n",
            "    True\n",
            "**********************************************************************\n",
            "File \"__main__\", line ?, in FreeTextAnswer\n",
            "Failed example:\n",
            "    ans1.is_correct(\"milkweed\")\n",
            "Expected:\n",
            "    True\n",
            "Got:\n",
            "    False\n",
            "Trying:\n",
            "    ans1.is_correct(\"thistle\")\n",
            "Expecting:\n",
            "    False\n",
            "ok\n",
            "Trying:\n",
            "    ans1.display()\n",
            "Expecting:\n",
            "    Type your answer in (don't worry about capitalization):\n",
            "ok\n",
            "Trying:\n",
            "    ans2 = FreeTextAnswer(\"Armeria Maritima\", True)\n",
            "Expecting nothing\n",
            "ok\n",
            "Trying:\n",
            "    ans2.is_correct(\"armeria maritima\")\n",
            "Expecting:\n",
            "    False\n",
            "ok\n",
            "Trying:\n",
            "    ans2.is_correct(\"Armeria Maritima\")\n",
            "Expecting:\n",
            "    True\n",
            "ok\n",
            "Trying:\n",
            "    ans2.display()\n",
            "Expecting:\n",
            "    Type your answer in (capitalization matters!):\n",
            "ok\n"
          ]
        }
      ],
      "source": [
        "class FreeTextAnswer(Answer):\n",
        "  \"\"\"\n",
        "  >>> ans1 = FreeTextAnswer(\"Milkweed\", False)\n",
        "  >>> ans1.is_correct(\"milkweed\")\n",
        "  True\n",
        "  >>> ans1.is_correct(\"thistle\")\n",
        "  False\n",
        "  >>> ans1.display()\n",
        "  Type your answer in (don't worry about capitalization):\n",
        "  >>> ans2 = FreeTextAnswer(\"Armeria Maritima\", True)\n",
        "  >>> ans2.is_correct(\"armeria maritima\")\n",
        "  False\n",
        "  >>> ans2.is_correct(\"Armeria Maritima\")\n",
        "  True\n",
        "  >>> ans2.display()\n",
        "  Type your answer in (capitalization matters!):\n",
        "  \"\"\"\n",
        "  def __init__(self, correct_answer, case_sensitive):\n",
        "    '''The class initializer should accept two parameters, one for the correct answer\n",
        "       and the other indicating whether the answer is case sensitive.'''\n",
        "\n",
        "    self.correct_answer = correct_answer\n",
        "    self.case_sensitive = case_sensitive\n",
        "\n",
        "\n",
        "  def is_correct(self, user_answer):\n",
        "    '''Needs to return either true or false based on whether the user's answer matches \n",
        "       the correct answer (ignoring capitalization if that was requested).'''\n",
        "    \n",
        "    if self.case_sensitive:         \n",
        "       return self.correct_answer == user_answer\n",
        "    else:    \n",
        "       return self.correct_answer == user_answer.lower()\n",
        "\n",
        "\n",
        "  def display(self):\n",
        "    '''Print out text that tells people what to put in the text box and whether capitalization matters.'''\n",
        "    \n",
        "    if self.case_sensitive:\n",
        "        print(f'Type your answer in (capitalization matters!):')\n",
        "    else:    \n",
        "        print(f'Type your answer in (don\\'t worry about capitalization):')\n",
        "   \n",
        "# Run doctests\n",
        "import doctest\n",
        "doctest.run_docstring_examples(FreeTextAnswer, globals(), verbose=True, name=\"FreeTextAnswer\")"
      ]
    },
    {
      "cell_type": "markdown",
      "source": [
        "## The `MultipleChoice` class\n",
        "\n",
        "You'll use this class for the questions where you want users to select one of a few possible options.\n",
        "\n",
        "The class initializer should accept two parameters, one for the correct answer and one with a list of answer choices.\n",
        "\n",
        "This time, the `display` method does a bit more work: it needs to print out each of the choices next to a number and tell users to enter the _number_ of the correct choice.\n",
        "\n",
        "Then `is_correct` returns true or false based on whether the number entered by the user matches up with the correct answer's list index. Note that the user numbers should start with 1 but list indices start with 0, so watch out for off-by-one errors. 👁\n",
        "\n",
        "\n",
        "### ✏︎ For you to do\n",
        "\n",
        "Implement the three methods per the description above and doctests below, and run the doctests to ensure they're all passing. This time, you'll also need to write the function signatures.\n",
        "\n",
        "📺 For help getting started, [watch this video](https://youtu.be/oYrI3dW6pSY)\n"
      ],
      "metadata": {
        "id": "GkEPTv01_L4a"
      }
    },
    {
      "cell_type": "code",
      "source": [
        "class MultipleChoiceAnswer(Answer):\n",
        "  \"\"\"\n",
        "  >>> ans = MultipleChoiceAnswer(\"Dill\", [\"Milkweed\", \"Dill\", \"Thistle\"])\n",
        "  >>> ans.is_correct(1)\n",
        "  False\n",
        "  >>> ans.is_correct(2)\n",
        "  True\n",
        "  >>> ans.is_correct(3)\n",
        "  False\n",
        "  >>> ans.is_correct('2') # Handles strings\n",
        "  True\n",
        "  >>> ans.display()\n",
        "  Type the number corresponding to the correct answer.\n",
        "  1. Milkweed\n",
        "  2. Dill\n",
        "  3. Thistle\n",
        "  \"\"\"\n",
        "  def __init__(self, correct_answer, answer_choices):\n",
        "     self.correct_answer = correct_answer\n",
        "     self.answer_choices = answer_choices\n",
        "     self.answer_index = answer_choices.index(self.correct_answer) + 1\n",
        "\n",
        "  def is_correct(self, user_answer):\n",
        "     user_answer = int(user_answer)\n",
        "     return user_answer == self.answer_index   \n",
        "\n",
        "  def display(self):\n",
        "     print(\"Type the number corresponding to the correct answer.\")\n",
        "     for index, answer_choice in enumerate(self.answer_choices):\n",
        "       print(f\"{str(index+1)}. {answer_choice}\")    \n",
        "        \n",
        "# Run doctests\n",
        "import doctest\n",
        "doctest.run_docstring_examples(MultipleChoiceAnswer, globals(), verbose=True, name=\"MultipleChoiceAnswer\")"
      ],
      "metadata": {
        "id": "m5wJyaaPvjSh",
        "colab": {
          "base_uri": "https://localhost:8080/"
        },
        "outputId": "e928e475-7553-4fa2-ff3d-00520fbf9bc1"
      },
      "execution_count": 3,
      "outputs": [
        {
          "output_type": "stream",
          "name": "stdout",
          "text": [
            "Finding tests in MultipleChoiceAnswer\n",
            "Trying:\n",
            "    ans = MultipleChoiceAnswer(\"Dill\", [\"Milkweed\", \"Dill\", \"Thistle\"])\n",
            "Expecting nothing\n",
            "ok\n",
            "Trying:\n",
            "    ans.is_correct(1)\n",
            "Expecting:\n",
            "    False\n",
            "ok\n",
            "Trying:\n",
            "    ans.is_correct(2)\n",
            "Expecting:\n",
            "    True\n",
            "ok\n",
            "Trying:\n",
            "    ans.is_correct(3)\n",
            "Expecting:\n",
            "    False\n",
            "ok\n",
            "Trying:\n",
            "    ans.is_correct('2') # Handles strings\n",
            "Expecting:\n",
            "    True\n",
            "ok\n",
            "Trying:\n",
            "    ans.display()\n",
            "Expecting:\n",
            "    Type the number corresponding to the correct answer.\n",
            "    1. Milkweed\n",
            "    2. Dill\n",
            "    3. Thistle\n",
            "ok\n"
          ]
        }
      ]
    },
    {
      "cell_type": "markdown",
      "source": [
        "  '''returns true or false based on whether the number entered by the user \n",
        "        matches up with the correct answer's list index. Note - user numbers start with 1 \n",
        "        but list indices start with 0, so watch out for off-by-one errors.''' "
      ],
      "metadata": {
        "id": "iM9f_8ZPZ0QD"
      }
    },
    {
      "cell_type": "markdown",
      "source": [
        "### ✏︎ For you to do\n",
        "\n",
        "Create a `MultipleChoiceAnswer` based on one of your questions in the quiz above, and call `display()` to make sure it displays as you expect."
      ],
      "metadata": {
        "id": "l7VKvHQjAkCL"
      }
    },
    {
      "cell_type": "code",
      "source": [
        "# YOUR CODE HERE\n",
        "my_answer =  MultipleChoiceAnswer(\"yes\", [\"no\", \"yes\", \"maybe\"])\n",
        "MultipleChoiceAnswer.display(my_answer)"
      ],
      "metadata": {
        "id": "aUcJskdEAy7H",
        "colab": {
          "base_uri": "https://localhost:8080/"
        },
        "outputId": "f4720df2-8a0a-450e-961d-3683455aac25"
      },
      "execution_count": 4,
      "outputs": [
        {
          "output_type": "stream",
          "name": "stdout",
          "text": [
            "Type the number corresponding to the correct answer.\n",
            "1. no\n",
            "2. yes\n",
            "3. maybe\n"
          ]
        }
      ]
    },
    {
      "cell_type": "markdown",
      "source": [
        "## The `Question` class\n",
        "\n",
        "The initializer for this class should accept two parameters:\n",
        "* the first is a string prompt, the question itself\n",
        "* the second is an `Answer` object, any of the classes defined above\n",
        "\n",
        "The `display` method for this class is a bit tricky, since it needs to actually get the answer from the user (via the `input()` function), check if the user answer is correct, and store whether they got it correct in an `answer_status` instance variable. That instance variable will be used by the `Quiz` class in the next step.\n",
        "\n",
        "It's hard to write doctests for functions that use the `input()` function, since the tests will actually pause and wait for input, so we've instead written comments describing the process.\n",
        "\n",
        "You can also watch the animated GIF below to see a demo of `Question.display()` in action:\n",
        "\n",
        "![Animated GIF of answering a question](https://corise.com/static/course/introduction-to-python/assets/ckyjsdz5x00e914bbdiekfvor/question_display.gif)\n",
        "\n",
        "### ✏︎ For you to do\n",
        "\n",
        "Implement the `__init__` and `__display__` methods below, per the description above and doctests and comments below."
      ],
      "metadata": {
        "id": "wzYdtfqIA0Da"
      }
    },
    {
      "cell_type": "code",
      "source": [
        "\n",
        "class Question:\n",
        "  \"\"\"\n",
        "  >>> q1 = Question(\"What plant do Swallowtail caterpillars eat?\",\n",
        "  ...              MultipleChoiceAnswer(\"Dill\", [\"Milkweed\", \"Dill\", \"Thistle\"]))\n",
        "  >>> q1.prompt\n",
        "  'What plant do Swallowtail caterpillars eat?'\n",
        "  >>> q1.answer.correct_answer\n",
        "  'Dill'\n",
        "  >>> q1.answer_status\n",
        "  'unanswered'\n",
        "  >>> q2 = Question(\"What plant do Monarch caterpillars eat?\",\n",
        "  ...              FreeTextAnswer(\"Milkweed\", False))\n",
        "  >>> q2.prompt\n",
        "  'What plant do Monarch caterpillars eat?'\n",
        "  >>> q2.answer.correct_answer\n",
        "  'Milkweed'\n",
        "  \"\"\"\n",
        "  def __init__(self, prompt, answer):\n",
        "    # YOUR CODE HERE\n",
        "    # Initialize all instance variables\n",
        "    self.prompt = prompt\n",
        "    self.answer = answer\n",
        "    self.answer_status = \"unanswered\"\n",
        "\n",
        "  def display(self):\n",
        "    # Print the question prompt\n",
        "    print(self.prompt)\n",
        "\n",
        "    # Display the answer\n",
        "    self.answer.display()\n",
        "    \n",
        "    # Ask the user for input and store their answer\n",
        "    user_answer = input(\"\")\n",
        "\n",
        "    # If answer is correct,    \n",
        "    if self.answer.is_correct(user_answer):\n",
        "    #  display a message congratulating them\n",
        "    #  and mark answer_status instance variable as 'correct'\n",
        "       print(\"You got it!\")\n",
        "       self.answer_status = 'correct'\n",
        "    # If answer is not correct,    \n",
        "    else:\n",
        "    #  display a message showing them correct answer\n",
        "    #  and mark answer_status instance variable as 'incorrect'\n",
        "       print(f\"Sorry, it was: {self.answer.correct_answer}\")\n",
        "\n",
        "# Run doctests\n",
        "import doctest\n",
        "doctest.run_docstring_examples(Question, globals(), verbose=True,  name=\"Question\")"
      ],
      "metadata": {
        "id": "wNR88d51uY9O",
        "colab": {
          "base_uri": "https://localhost:8080/"
        },
        "outputId": "5acedbe4-a85e-4482-9fca-aa7e88fabba3"
      },
      "execution_count": 7,
      "outputs": [
        {
          "output_type": "stream",
          "name": "stdout",
          "text": [
            "Finding tests in Question\n",
            "Trying:\n",
            "    q1 = Question(\"What plant do Swallowtail caterpillars eat?\",\n",
            "                 MultipleChoiceAnswer(\"Dill\", [\"Milkweed\", \"Dill\", \"Thistle\"]))\n",
            "Expecting nothing\n",
            "ok\n",
            "Trying:\n",
            "    q1.prompt\n",
            "Expecting:\n",
            "    'What plant do Swallowtail caterpillars eat?'\n",
            "ok\n",
            "Trying:\n",
            "    q1.answer.correct_answer\n",
            "Expecting:\n",
            "    'Dill'\n",
            "ok\n",
            "Trying:\n",
            "    q1.answer_status\n",
            "Expecting:\n",
            "    'unanswered'\n",
            "ok\n",
            "Trying:\n",
            "    q2 = Question(\"What plant do Monarch caterpillars eat?\",\n",
            "                 FreeTextAnswer(\"Milkweed\", False))\n",
            "Expecting nothing\n",
            "ok\n",
            "Trying:\n",
            "    q2.prompt\n",
            "Expecting:\n",
            "    'What plant do Monarch caterpillars eat?'\n",
            "ok\n",
            "Trying:\n",
            "    q2.answer.correct_answer\n",
            "Expecting:\n",
            "    'Milkweed'\n",
            "ok\n"
          ]
        }
      ]
    },
    {
      "cell_type": "markdown",
      "source": [
        "### ✏︎ For you to do\n",
        "\n",
        "Create a `Question` object representing one of the questions from your quiz, and call `display()`. Test it with both correct and incorrect answers, and make sure the resulting message makes sense. \n",
        "\n",
        "You may want to test both a free text answer and multiple choice answer, for completeness."
      ],
      "metadata": {
        "id": "zmwEnJJSEqjx"
      }
    },
    {
      "cell_type": "code",
      "source": [
        "# YOUR CODE HERE\n",
        "my_question = Question(\"Can CASE statements be used in SQL?\", my_answer)\n",
        "my_question.display()"
      ],
      "metadata": {
        "id": "G0h_SlHir9vs",
        "colab": {
          "base_uri": "https://localhost:8080/"
        },
        "outputId": "b8ba3302-4ce5-4859-b2c3-a89b13120a64"
      },
      "execution_count": 8,
      "outputs": [
        {
          "output_type": "stream",
          "name": "stdout",
          "text": [
            "Can CASE statements be used in SQL?\n",
            "Type the number corresponding to the correct answer.\n",
            "1. no\n",
            "2. yes\n",
            "3. maybe\n",
            "3\n",
            "Sorry, it was: yes\n"
          ]
        }
      ]
    },
    {
      "cell_type": "markdown",
      "source": [
        "## The `Quiz` class\n",
        "\n",
        "It's the grand finalé! You've got all the components you need for questions and answer checking, now you just need to sequence a series of questions into a quiz. That's the job of the `Quiz` class.\n",
        "\n",
        "The `Quiz` initializer should take two parameters, the name of the quiz and a list of `Question` objects. There is also a `add_question` method to add a `Question` to that list at a later stage, so programmers using this class have different options for how to use it.\n",
        "\n",
        "This class also has a `display` method, which displays the name of the quiz and then displays each question in order. It keeps track of the total number of questions answered correctly so that it can display that total at the end.\n",
        "\n",
        "Once again, since we can't use doctests to verify how you've implemented this method, we've written comments to guide your implementation. Feel free to diverge from them if you have a better way, however.\n",
        "\n",
        "Here's an animated GIF showing how my quiz `display` method worked:\n",
        "\n",
        "![Animated GIF of displaying a quiz](https://corise.com/static/course/introduction-to-python/assets/ckyjstiz400en149r7if6bdt3/quiz_display.gif)\n",
        "\n",
        "### ✏︎ For you to do\n",
        "\n",
        "Implement `__init__`, `add_question`, and `display` per the description above and doctests/comments below.\n"
      ],
      "metadata": {
        "id": "JTLXG5UbFRyR"
      }
    },
    {
      "cell_type": "code",
      "source": [
        "class Quiz:\n",
        "  \"\"\"\n",
        "  >>> quiz = Quiz(\"Butterflies\", [])\n",
        "  >>> quiz.name\n",
        "  'Butterflies'\n",
        "  >>> quiz.questions\n",
        "  []\n",
        "  >>> q1 = Question(\"What plant do Swallowtail caterpillars eat?\",\n",
        "  ...              MultipleChoiceAnswer(\"Dill\", [\"Milkweed\", \"Dill\", \"Thistle\"]))\n",
        "  >>> q2 = Question(\"What plant do Monarch caterpillars eat?\",\n",
        "  ...              FreeTextAnswer(\"Milkweed\", False))\n",
        "  >>> quiz.add_question(q1)\n",
        "  >>> quiz.add_question(q2)\n",
        "  >>> quiz.questions[0].prompt\n",
        "  'What plant do Swallowtail caterpillars eat?'\n",
        "  >>> quiz.questions[1].prompt\n",
        "  'What plant do Monarch caterpillars eat?'\n",
        "  \"\"\"\n",
        "  def __init__(self, name, questions):\n",
        "    self.name = name\n",
        "    self.questions = questions \n",
        "  \n",
        "  def add_question(self, question):\n",
        "    self.questions.append(question)\n",
        "\n",
        "  def display(self):\n",
        "    # Display the quiz name\n",
        "    print(self.name)\n",
        "\n",
        "    # Initialize the correct counter to 0\n",
        "    correct_counter = 0\n",
        "\n",
        "    # Iterate through the questions\n",
        "    for question in self.questions:    \n",
        "      question.display()                                                 #  Display each question    \n",
        "      if question.answer_status == \"correct\":                             #  Increment the correct counter according to the answer status\n",
        "        correct_counter = correct_counter + 1                            \n",
        "    print(f\"You got {correct_counter}/{len(self.questions)} correct.\")  # Print the ratio of correct/total\n",
        "\n",
        "# Run doctests\n",
        "import doctest\n",
        "doctest.run_docstring_examples(Quiz, globals(), verbose=True, name=\"Quiz\")"
      ],
      "metadata": {
        "id": "0mibsoIYrlOs",
        "colab": {
          "base_uri": "https://localhost:8080/"
        },
        "outputId": "01ea1b26-fbb7-4e1f-fcb5-735921267972"
      },
      "execution_count": 25,
      "outputs": [
        {
          "output_type": "stream",
          "name": "stdout",
          "text": [
            "Finding tests in Quiz\n",
            "Trying:\n",
            "    quiz = Quiz(\"Butterflies\", [])\n",
            "Expecting nothing\n",
            "ok\n",
            "Trying:\n",
            "    quiz.name\n",
            "Expecting:\n",
            "    'Butterflies'\n",
            "ok\n",
            "Trying:\n",
            "    quiz.questions\n",
            "Expecting:\n",
            "    []\n",
            "ok\n",
            "Trying:\n",
            "    q1 = Question(\"What plant do Swallowtail caterpillars eat?\",\n",
            "                 MultipleChoiceAnswer(\"Dill\", [\"Milkweed\", \"Dill\", \"Thistle\"]))\n",
            "Expecting nothing\n",
            "ok\n",
            "Trying:\n",
            "    q2 = Question(\"What plant do Monarch caterpillars eat?\",\n",
            "                 FreeTextAnswer(\"Milkweed\", False))\n",
            "Expecting nothing\n",
            "ok\n",
            "Trying:\n",
            "    quiz.add_question(q1)\n",
            "Expecting nothing\n",
            "ok\n",
            "Trying:\n",
            "    quiz.add_question(q2)\n",
            "Expecting nothing\n",
            "ok\n",
            "Trying:\n",
            "    quiz.questions[0].prompt\n",
            "Expecting:\n",
            "    'What plant do Swallowtail caterpillars eat?'\n",
            "ok\n",
            "Trying:\n",
            "    quiz.questions[1].prompt\n",
            "Expecting:\n",
            "    'What plant do Monarch caterpillars eat?'\n",
            "ok\n"
          ]
        }
      ]
    },
    {
      "cell_type": "markdown",
      "source": [
        "### ✏︎ For you to do\n",
        "\n",
        "🎉 It's time! Create your whole quiz programmatically below. If you have any roommates or family members, have them try it out and give feedback. We'll also give feedback when you share it with the community, of course. "
      ],
      "metadata": {
        "id": "bcO4U6DaHQmE"
      }
    },
    {
      "cell_type": "code",
      "source": [
        "# YOUR CODE HERE\n",
        "quiz = Quiz(\"Test your SQL Knowledge\", [])\n",
        "\n",
        "quiz.add_question(\n",
        "    Question(\"Question 1: What does SQL stand for?\",FreeTextAnswer(\"Structured Query Language\", True)))\n",
        "quiz.add_question(\n",
        "    Question(\"Question 2: What is SQL?\",\n",
        "                  MultipleChoiceAnswer(\"A way to communicate with a database\", \n",
        "                                       [\"A front-end framework\", \"A way to communicate with a database\", \"A layered web security application\"])))\n",
        "quiz.add_question(\n",
        "    Question(\"Question 3: What are the different clauses used in SQL\",\n",
        "                  MultipleChoiceAnswer(\"select, from, where, order by, group by, having, join, limit\",\n",
        "                                       [\"select, from, where, order by, group by, having, join, limit\", \"PL-SQL, T-SQL, pgSQL, CQL, ANSI-SQL\", \n",
        "                                        \"table, view, index, cursor, trigger, schema, query\"])))    \n",
        "quiz.add_question(\n",
        "    Question(\"Question 4: What are the 4 major types of joins\",\n",
        "                  MultipleChoiceAnswer(\"inner, left, right, full\", \n",
        "                                       [\"primary, foreign, unique, null\", \"DDL, DML, DCL, DROP\", \"inner, left, right, full\"])))\n",
        "quiz.add_question(\n",
        "    Question(\"Question 5: What is the execution order for SQL clauses\",\n",
        "                  MultipleChoiceAnswer(\"from | join, where, group by, having, select, order by, limit\", \n",
        "                                       [\"select, from, where, order by, group by, limit, having,join\", \n",
        "                                        \"from | join, where, group by, having, select, order by, limit\", \n",
        "                                        \"select, from, join, group by, order by, having, limit, where\"])))\n",
        "quiz.add_question(\n",
        "    Question(\"Question 6: How many different types of indexes are there\",\n",
        "                  MultipleChoiceAnswer(\"three\", [\"three\", \"five\", \"eight\"])))\n",
        "quiz.add_question(\n",
        "    Question(\"Question 7: What are the different types of relationships in a database\",\n",
        "                  MultipleChoiceAnswer(\"one-to-one, one-to-many, many-to-one, many-to-many\", \n",
        "                                       [\"one-to-one, one-to-many, many-to-one, many-to-many\", \"one-to-none, one-to-few\", \n",
        "                                       \"few-to-many, many-to-max\", \"unique, clustered, non-clustered\"])))\n",
        "quiz.add_question(\n",
        "    Question(\"Question 8: What does CTE stand for?\",FreeTextAnswer(\"common table expression\", False)))\n",
        "quiz.add_question(\n",
        "    Question(\"Question 9: Can CASE statements be used in SQL?\",MultipleChoiceAnswer(\"yes\", [\"no\",\"yes\",\"maybe\"])))\n",
        "quiz.add_question(\n",
        "    Question(\"Question 10: What are different types of aggregate functions?\",\n",
        "                  MultipleChoiceAnswer(\"COUNT, MIN, MAX, SUM, AVG\", [\"COUNT, MIN, MAX, SUM, AVG\", \"ROUND, FORMAT, STDEV, VAR, LEAD\", \n",
        "                                                                     \"RANK, NTILE, CUME_DIST, ROW NUMBER, LAG\"])))\n",
        "quiz.add_question(\n",
        "    Question(\"Question 11: What are the postgreSQL and MySQL mascots\",\n",
        "             MultipleChoiceAnswer(\"elephant and dolphin\", [\"cowduck and gopher\", \"panda and penguin\", \"elephant and dolphin\"])))\n",
        "quiz.display()"
      ],
      "metadata": {
        "id": "ol3_I7ivs_5X",
        "colab": {
          "base_uri": "https://localhost:8080/"
        },
        "outputId": "b97cd49a-51b6-4a03-ae16-826bdef34faa"
      },
      "execution_count": 26,
      "outputs": [
        {
          "output_type": "stream",
          "name": "stdout",
          "text": [
            "Test your SQL Knowledge\n",
            "Question 1: What does SQL stand for?\n",
            "Type your answer in (capitalization matters!):\n",
            "structured query language\n",
            "Sorry, it was: Structured Query Language\n",
            "Question 2: What is SQL?\n",
            "Type the number corresponding to the correct answer.\n",
            "1. A front-end framework\n",
            "2. A way to communicate with a database\n",
            "3. A layered web security application\n",
            "2\n",
            "You got it!\n",
            "Question 3: What are the different clauses used in SQL\n",
            "Type the number corresponding to the correct answer.\n",
            "1. select, from, where, order by, group by, having, join, limit\n",
            "2. PL-SQL, T-SQL, pgSQL, CQL, ANSI-SQL\n",
            "3. table, view, index, cursor, trigger, schema, query\n",
            "1\n",
            "You got it!\n",
            "Question 4: What are the 4 major types of joins\n",
            "Type the number corresponding to the correct answer.\n",
            "1. primary, foreign, unique, null\n",
            "2. DDL, DML, DCL, DROP\n",
            "3. inner, left, right, full\n",
            "1\n",
            "Sorry, it was: inner, left, right, full\n",
            "Question 5: What is the execution order for SQL clauses\n",
            "Type the number corresponding to the correct answer.\n",
            "1. select, from, where, order by, group by, limit, having,join\n",
            "2. from | join, where, group by, having, select, order by, limit\n",
            "3. select, from, join, group by, order by, having, limit, where\n",
            "2\n",
            "You got it!\n",
            "Question 6: How many different types of indexes are there\n",
            "Type the number corresponding to the correct answer.\n",
            "1. three\n",
            "2. five\n",
            "3. eight\n",
            "1\n",
            "You got it!\n",
            "Question 7: What are the different types of relationships in a database\n",
            "Type the number corresponding to the correct answer.\n",
            "1. one-to-one, one-to-many, many-to-one, many-to-many\n",
            "2. one-to-none, one-to-few\n",
            "3. few-to-many, many-to-max\n",
            "4. unique, clustered, non-clustered\n",
            "1\n",
            "You got it!\n",
            "Question 8: What does CTE stand for?\n",
            "Type your answer in (don't worry about capitalization):\n",
            "common table expression\n",
            "You got it!\n",
            "Question 9: Can CASE statements be used in SQL?\n",
            "Type the number corresponding to the correct answer.\n",
            "1. no\n",
            "2. yes\n",
            "3. maybe\n",
            "2\n",
            "You got it!\n",
            "Question 10: What are different types of aggregate functions?\n",
            "Type the number corresponding to the correct answer.\n",
            "1. COUNT, MIN, MAX, SUM, AVG\n",
            "2. ROUND, FORMAT, STDEV, VAR, LEAD\n",
            "3. RANK, NTILE, CUME_DIST, ROW NUMBER, LAG\n",
            "1\n",
            "You got it!\n",
            "Question 11: What are the postgreSQL and MySQL mascots\n",
            "Type the number corresponding to the correct answer.\n",
            "1. cowduck and gopher\n",
            "2. panda and penguin\n",
            "3. elephant and dolphin\n",
            "3\n",
            "You got it!\n",
            "You got 9/11 correct.\n"
          ]
        }
      ]
    },
    {
      "cell_type": "markdown",
      "source": [
        "## Extensions\n",
        "\n",
        "This project was inspired by the many OOP-based quiz systems I've worked on: Coursera's quizzes, Khan Academy's exercises, Berkeley tests, etc. Quizzes are everywhere - but they're also slightly different everywhere!\n",
        "\n",
        "Here are some ideas for ways you could change up your quiz system:\n",
        "\n",
        "* **Shuffling**: You could shuffle the choices within a `MultipleChoiceAnswer` and/or shuffle the questions within an entire quiz. The `random` module has a `shuffle` function that'd be mighty useful for this!\n",
        "* **Timing**: You could add a maximum duration for each quiz, keeping track of when the user started, showing how much time was left after each question, and warning them when they go over. Check out the `time` module for some useful functions.\n",
        "* **Fuzzier answer matching**: If you don't want to penalize users for spelling mistakes, you could check whether their answer was close in spelling to the correct answer (perhaps using the Levenshtein edit distance).\n",
        "* **More answer types**: For example, you could add a type where users answer just 'True' or 'False', or you could introduce a type where users select multiple correct answers out of a list. Each class would inherit from `Answer`.\n",
        "* **Feedback**: Instead of just telling users they're right or wrong, you could give them per-answer feedback about why their answer isn't right. That would definitely involve a change to the `Answer` constructors and `Question` display, and some thinking about how you want to specify feedback for each answer type. In my experience, giving feedback on wrong answers is very helpful for students and worth the work involved.\n",
        "\n",
        "If you have any ideas for quiz features but aren't sure how to implement them, just ask. We'd love to support you wherever you want to go with this project."
      ],
      "metadata": {
        "id": "8lVn86BoH_Sv"
      }
    }
  ]
}